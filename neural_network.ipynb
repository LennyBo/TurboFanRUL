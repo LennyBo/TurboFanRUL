{
 "cells": [
  {
   "cell_type": "markdown",
   "metadata": {},
   "source": [
    "# Import the cleaned data (see Preprocessing.py for more info)"
   ]
  },
  {
   "cell_type": "code",
   "execution_count": 1,
   "metadata": {},
   "outputs": [
    {
     "name": "stdout",
     "output_type": "stream",
     "text": [
      "13990 new datasets created\n",
      "2231 new datasets created\n",
      "4210 new datasets created\n",
      "[[-1.68042768e+00 -1.56010796e+00  8.59134976e-01 -1.02436036e+00\n",
      "   0.00000000e+00  0.00000000e+00 -1.05426000e+00  2.10557232e-01\n",
      "  -6.36238929e-01 -3.55271368e-15  1.45262918e-01  4.17594861e-01\n",
      "  -7.65503633e-01 -9.84341635e-01 -2.22044605e-16 -1.83072601e-01\n",
      "   1.16133708e+00 -3.29715783e-01 -6.86822145e-01 -2.71492413e-01\n",
      "  -1.04083409e-17 -7.79025964e-01  0.00000000e+00  0.00000000e+00\n",
      "   1.00993203e+00  1.22886104e+00]]\n"
     ]
    }
   ],
   "source": [
    "from Preprocessing import getData\n",
    "import numpy as np\n",
    "\n",
    "x_train,x_val,x_test,y_train,y_val,y_test = getData()\n",
    "\n",
    "print(x_train[0])"
   ]
  },
  {
   "cell_type": "code",
   "execution_count": 2,
   "metadata": {},
   "outputs": [
    {
     "name": "stdout",
     "output_type": "stream",
     "text": [
      "train data: 13990\t val data : 2231\t test data: 4210\n",
      "Classes and count for x_train: {0: 3570, 1: 6928, 2: 3492}\n",
      "(13990, 1, 26)\n"
     ]
    }
   ],
   "source": [
    "print(f\"train data: {len(x_train)}\\t val data : {len(x_val)}\\t test data: {len(x_test)}\")\n",
    "unique, counts = np.unique(y_train, return_counts=True)\n",
    "print(f\"Classes and count for x_train: {dict(zip(unique, counts))}\")\n",
    "print(x_train.shape)\n",
    "most_probable_class = np.argmax(counts)"
   ]
  },
  {
   "cell_type": "markdown",
   "metadata": {},
   "source": [
    "# Generate the model"
   ]
  },
  {
   "cell_type": "code",
   "execution_count": 3,
   "metadata": {},
   "outputs": [],
   "source": [
    "from keras import layers\n",
    "from keras.models import Sequential"
   ]
  },
  {
   "cell_type": "code",
   "execution_count": 4,
   "metadata": {},
   "outputs": [
    {
     "name": "stdout",
     "output_type": "stream",
     "text": [
      "(13990, 1, 26)\n",
      "WARNING:tensorflow:Layer lstm will not use cuDNN kernels since it doesn't meet the criteria. It will use a generic GPU kernel as fallback when running on GPU.\n",
      "WARNING:tensorflow:Layer lstm_1 will not use cuDNN kernels since it doesn't meet the criteria. It will use a generic GPU kernel as fallback when running on GPU.\n"
     ]
    }
   ],
   "source": [
    "print(x_train.shape)\n",
    "\n",
    "model = Sequential()\n",
    "# model.add(layers.Conv1D(filters=64, kernel_size=3, activation='relu'))\n",
    "\n",
    "# model.add(layers.LSTM(units=20, return_sequences=True))\n",
    "# model.add(layers.LSTM(units=26, return_sequences=True))\n",
    "\n",
    "model.add(layers.LSTM(units=20,activation='relu',return_sequences=True))\n",
    "# model.add(layers.Dropout(0.2))\n",
    "model.add(layers.LSTM(units=3,activation='softmax'))\n",
    "\n",
    "\n",
    "model.compile(optimizer = 'adam', loss = 'sparse_categorical_crossentropy',metrics=['accuracy'])\n",
    "\n"
   ]
  },
  {
   "cell_type": "code",
   "execution_count": 5,
   "metadata": {},
   "outputs": [
    {
     "name": "stderr",
     "output_type": "stream",
     "text": [
      "100%|██████████| 26/26 [00:13<00:00,  1.92it/s]\n"
     ]
    },
    {
     "name": "stdout",
     "output_type": "stream",
     "text": [
      "\n",
      "\n",
      "Evaluation loss:  0.561960756778717 \t Evaluation accuracy: 0.7548693418502808\n",
      "0.4750593824228028\n"
     ]
    }
   ],
   "source": [
    "rollingWindow = 1000\n",
    "valWindow = 0\n",
    "step = 500\n",
    "from tqdm import tqdm\n",
    "for i in tqdm(range(0,len(x_train) - rollingWindow-valWindow,step)):\n",
    "    model.fit(x_train[i:i+rollingWindow], y_train[i:i+rollingWindow], epochs=1, verbose=0,validation_data=(x_train[i+rollingWindow:i+rollingWindow+valWindow], y_train[i+rollingWindow:i+rollingWindow+valWindow]))\n",
    "\n",
    "evaluatation = model.evaluate(x_test, y_test,verbose=0)\n",
    "\n",
    "\n",
    "print(f\"\\n\\nEvaluation loss:  {evaluatation[0]} \\t Evaluation accuracy: {evaluatation[1]}\")\n",
    "\n",
    "from sklearn.metrics import accuracy_score\n",
    "base_line = accuracy_score(y_test, [most_probable_class]*len(y_test))\n",
    "print(base_line)"
   ]
  },
  {
   "cell_type": "code",
   "execution_count": 6,
   "metadata": {},
   "outputs": [
    {
     "data": {
      "image/png": "[encoded data removed]",
      "text/plain": [
       "<Figure size 432x288 with 2 Axes>"
      ]
     },
     "metadata": {
      "needs_background": "light"
     },
     "output_type": "display_data"
    }
   ],
   "source": [
    "from sklearn_evaluation import plot\n",
    "import matplotlib.pyplot as plt\n",
    "\n",
    "y_pred = model.predict(x_test)\n",
    "y_pred = np.argmax(y_pred, axis=1)\n",
    "\n",
    "y_true = y_test\n",
    "\n",
    "t = plot.confusion_matrix(y_true, y_pred)\n",
    "t.set_title(\"Neural Network Confusion Matrix\")\n",
    "plt.show()"
   ]
  }
 ],
 "metadata": {
  "interpreter": {
   "hash": "bbcd16870f9a89e46e760e6b55b5046d1285a9bd78dfb3ab1aff4c621d5f2caa"
  },
  "kernelspec": {
   "display_name": "Python 3.8.6 64-bit",
   "language": "python",
   "name": "python3"
  },
  "language_info": {
   "codemirror_mode": {
    "name": "ipython",
    "version": 3
   },
   "file_extension": ".py",
   "mimetype": "text/x-python",
   "name": "python",
   "nbconvert_exporter": "python",
   "pygments_lexer": "ipython3",
   "version": "3.8.6"
  },
  "orig_nbformat": 4
 },
 "nbformat": 4,
 "nbformat_minor": 2
}
