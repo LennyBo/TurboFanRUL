{
 "cells": [
  {
   "cell_type": "markdown",
   "metadata": {},
   "source": [
    "# Import the cleaned data (see Preprocessing.py for more info)"
   ]
  },
  {
   "cell_type": "code",
   "execution_count": null,
   "metadata": {},
   "outputs": [],
   "source": [
    "from Preprocessing import getData\n",
    "import numpy as np\n",
    "\n",
    "x_train,x_val,x_test,y_train,y_val,y_test = getData()\n",
    "\n",
    "print(x_train[0])"
   ]
  },
  {
   "cell_type": "code",
   "execution_count": null,
   "metadata": {},
   "outputs": [],
   "source": [
    "print(f\"train data: {len(x_train)}\\t val data : {len(x_val)}\\t test data: {len(x_test)}\")\n",
    "unique, counts = np.unique(y_train, return_counts=True)\n",
    "print(f\"Classes and count for x_train: {dict(zip(unique, counts))}\")\n",
    "print(x_train.shape)\n",
    "most_probable_class = np.argmax(counts)"
   ]
  },
  {
   "cell_type": "markdown",
   "metadata": {},
   "source": [
    "# Generate the model"
   ]
  },
  {
   "cell_type": "code",
   "execution_count": null,
   "metadata": {},
   "outputs": [],
   "source": [
    "from keras import layers\n",
    "from keras.models import Sequential"
   ]
  },
  {
   "cell_type": "code",
   "execution_count": null,
   "metadata": {},
   "outputs": [],
   "source": [
    "print(x_train.shape)\n",
    "\n",
    "model = Sequential()\n",
    "\n",
    "model.add(layers.LSTM(units=20, return_sequences=True))\n",
    "# model.add(layers.Dropout(0.2))\n",
    "model.add(layers.LSTM(units=3, dropout=0.2, activation='softmax')) # dropout, pour éviter les overfitting\n",
    "\n",
    "model.compile(optimizer = 'adam', loss = 'sparse_categorical_crossentropy', metrics=['accuracy'])\n",
    "\n"
   ]
  },
  {
   "cell_type": "code",
   "execution_count": null,
   "metadata": {},
   "outputs": [],
   "source": [
    "rollingWindow = 1000\n",
    "valWindow = 0\n",
    "step = 500\n",
    "from tqdm import tqdm\n",
    "for i in tqdm(range(0,len(x_train) - rollingWindow-valWindow,step)):\n",
    "    model.fit(x_train[i:i+rollingWindow], y_train[i:i+rollingWindow], epochs=1, verbose=0,validation_data=(x_train[i+rollingWindow:i+rollingWindow+valWindow], y_train[i+rollingWindow:i+rollingWindow+valWindow]))\n",
    "\n",
    "evaluatation = model.evaluate(x_test, y_test,verbose=0)\n",
    "\n",
    "\n",
    "print(f\"\\n\\nEvaluation loss:  {evaluatation[0]} \\t Evaluation accuracy: {evaluatation[1]}\")\n",
    "\n",
    "from sklearn.metrics import accuracy_score\n",
    "base_line = accuracy_score(y_test, [most_probable_class]*len(y_test))\n",
    "print(base_line)"
   ]
  }
 ],
 "metadata": {
  "interpreter": {
   "hash": "bbcd16870f9a89e46e760e6b55b5046d1285a9bd78dfb3ab1aff4c621d5f2caa"
  },
  "kernelspec": {
   "display_name": "Python 3.8.6 64-bit",
   "language": "python",
   "name": "python3"
  },
  "language_info": {
   "codemirror_mode": {
    "name": "ipython",
    "version": 3
   },
   "file_extension": ".py",
   "mimetype": "text/x-python",
   "name": "python",
   "nbconvert_exporter": "python",
   "pygments_lexer": "ipython3",
   "version": "3.10.3"
  },
  "orig_nbformat": 4
 },
 "nbformat": 4,
 "nbformat_minor": 2
}
