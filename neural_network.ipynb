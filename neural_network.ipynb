{
 "cells": [
  {
   "cell_type": "markdown",
   "metadata": {},
   "source": [
    "# Import the cleaned data (see Preprocessing.py for more info)"
   ]
  },
  {
   "cell_type": "code",
   "execution_count": null,
   "metadata": {},
   "outputs": [],
   "source": [
    "from Preprocessing import getData\n",
    "import numpy as np\n",
    "\n",
    "x_train,x_val,x_test,y_train,y_val,y_test = getData()"
   ]
  },
  {
   "cell_type": "code",
   "execution_count": null,
   "metadata": {},
   "outputs": [],
   "source": [
    "print(f\"train data: {len(x_train)}\\t val data : {len(x_val)}\\t test data: {len(x_test)}\")\n",
    "unique, counts = np.unique(y_train, return_counts=True)\n",
    "print(f\"Classes and count for x_train: {dict(zip(unique, counts))}\")"
   ]
  },
  {
   "cell_type": "markdown",
   "metadata": {},
   "source": [
    "# Generate the model"
   ]
  },
  {
   "cell_type": "code",
   "execution_count": null,
   "metadata": {},
   "outputs": [],
   "source": [
    "import tensorflow as tf\n",
    "from tensorflow import keras\n",
    "from tensorflow.keras import layers\n",
    "from keras.models import Sequential\n",
    "from keras.layers import Dense"
   ]
  },
  {
   "cell_type": "code",
   "execution_count": null,
   "metadata": {},
   "outputs": [],
   "source": [
    "print(x_train.shape)\n",
    "\n",
    "model = Sequential()\n",
    "\n",
    "#model.add(layers.Conv1D(32, 3, activation='relu',input_shape=(x_train[0].shape)))\n",
    "model.add(layers.LSTM(units = 50,return_sequences = True))\n",
    "model.add(layers.Dropout(0.2))\n",
    "\n",
    "\n",
    "model.add(layers.LSTM(units = 50))\n",
    "model.add(layers.Dropout(0.25))\n",
    "\n",
    "model.add(layers.Flatten())\n",
    "model.add(Dense(50, activation= \"relu\"))\n",
    "model.add(Dense(25, activation= \"relu\"))\n",
    "model.add(layers.Dropout(0.25))\n",
    "model.add(Dense(50, activation= \"relu\"))\n",
    "\n",
    "model.add(Dense(max(y_train) + 1, activation= \"softmax\"))\n",
    "\n",
    "model.compile(optimizer = 'adam', loss = 'sparse_categorical_crossentropy',metrics=['accuracy'])\n",
    "\n"
   ]
  },
  {
   "cell_type": "code",
   "execution_count": null,
   "metadata": {},
   "outputs": [],
   "source": [
    "TrainHistory  = model.fit(x_train, y_train, epochs=5, validation_data=(x_val, y_val))\n",
    "\n",
    "evaluatation = model.evaluate(x_test, y_test,verbose=0)\n",
    "\n",
    "print(f\"\\n\\nEvaluation loss:  {evaluatation[0]} \\t Evaluation accuracy: {evaluatation[1]}\")"
   ]
  },
  {
   "cell_type": "code",
   "execution_count": null,
   "metadata": {},
   "outputs": [],
   "source": [
    "import matplotlib.pyplot as plt\n",
    "\n",
    "\n",
    "def plot_metrics(history):\n",
    "  metrics = ['loss', 'accuracy']\n",
    "  for n, metric in enumerate(metrics):\n",
    "    name = metric.replace(\"_\",\" \").capitalize()\n",
    "    plt.subplot(2,2,n+1)\n",
    "    plt.plot(history.epoch, history.history[metric], color=\"C1\", label='Train')\n",
    "    plt.plot(history.epoch, history.history['val_'+metric],\n",
    "             color=\"C0\", linestyle=\"--\", label='Val')\n",
    "    plt.xlabel('Epoch')\n",
    "    plt.ylabel(name)\n",
    "    if metric == 'loss':\n",
    "      plt.ylim([0, plt.ylim()[1]])\n",
    "    elif metric == 'auc':\n",
    "      plt.ylim([0.8,1])\n",
    "    else:\n",
    "      plt.ylim([0,1])\n",
    "\n",
    "    plt.legend()\n",
    "\n",
    "plot_metrics(TrainHistory)"
   ]
  },
  {
   "cell_type": "code",
   "execution_count": null,
   "metadata": {},
   "outputs": [],
   "source": []
  }
 ],
 "metadata": {
  "interpreter": {
   "hash": "bbcd16870f9a89e46e760e6b55b5046d1285a9bd78dfb3ab1aff4c621d5f2caa"
  },
  "kernelspec": {
   "display_name": "Python 3.8.6 64-bit",
   "language": "python",
   "name": "python3"
  },
  "language_info": {
   "codemirror_mode": {
    "name": "ipython",
    "version": 3
   },
   "file_extension": ".py",
   "mimetype": "text/x-python",
   "name": "python",
   "nbconvert_exporter": "python",
   "pygments_lexer": "ipython3",
   "version": "3.8.6"
  },
  "orig_nbformat": 4
 },
 "nbformat": 4,
 "nbformat_minor": 2
}
