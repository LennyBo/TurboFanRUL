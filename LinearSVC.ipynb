{
 "cells": [
  {
   "cell_type": "markdown",
   "metadata": {},
   "source": [
    "# LinearSVC\n",
    "\n",
    "LinearSVC has been chosen as the classifier after testing through lazypredict.\n",
    "\n",
    "Since LinearSVC does not need validation data, I concatanated the training and validation data into one set."
   ]
  },
  {
   "cell_type": "code",
   "execution_count": null,
   "metadata": {},
   "outputs": [],
   "source": [
    "from Preprocessing import getData\n",
    "import numpy as np\n",
    "x_train,x_val,x_test,y_train,y_val,y_test = getData()\n",
    "\n",
    "print(f\"x_train: {len(x_train)} x_val: {len(x_val)} : {len(x_train) + len(x_val)}\")\n",
    "\n",
    "x_train = np.concatenate((x_train,x_val),axis=0)\n",
    "y_train = np.concatenate((y_train,y_val),axis=0)\n",
    "\n",
    "x_train = [x.flatten() for x in x_train]\n",
    "x_test = [x.flatten() for x in x_test]\n",
    "\n",
    "print(f\"x_train: {len(x_train)}\")"
   ]
  },
  {
   "cell_type": "code",
   "execution_count": null,
   "metadata": {},
   "outputs": [],
   "source": [
    "from sklearn.pipeline import Pipeline\n",
    "from sklearn.svm import LinearSVC\n",
    "from sklearn.model_selection import GridSearchCV\n",
    "\n",
    "# SVCpipe = Pipeline([('SVC',LinearSVC(tol=1e-5,max_iter=10000))])\n",
    "# param_grid = {'SVC__C':np.arange(0.001,100,10)}\n",
    "\n",
    "# print(len(param_grid['SVC__C']))\n",
    "\n",
    "# linearSVC = GridSearchCV(SVCpipe,param_grid,cv=5,return_train_score=True)\n",
    "# linearSVC.fit(x_train,y_train)\n",
    "# print(linearSVC.best_params_)\n",
    "# #linearSVC.coef_\n",
    "# #linearSVC.intercept_\n",
    "\n",
    "# bestlinearSVC = linearSVC.best_estimator_\n",
    "# bestlinearSVC.fit(x_train,y_train)\n",
    "# bestlinearSVC.coef_ = bestlinearSVC.named_steps['SVC'].coef_\n",
    "# bestlinearSVC.score(x_train,y_train)\n",
    "\n",
    "clf = LinearSVC(random_state=0, tol=1e-5, max_iter=10000)\n",
    "clf.fit(x_train, y_train)"
   ]
  },
  {
   "cell_type": "code",
   "execution_count": null,
   "metadata": {},
   "outputs": [],
   "source": [
    "from sklearn.metrics import accuracy_score\n",
    "\n",
    "y_pred = clf.predict(x_test)\n",
    "\n",
    "\n",
    "accuracy_score(y_test, y_pred)"
   ]
  },
  {
   "cell_type": "code",
   "execution_count": null,
   "metadata": {},
   "outputs": [],
   "source": [
    "from sklearn_evaluation import plot\n",
    "import matplotlib.pyplot as plt\n",
    "\n",
    "y_pred = clf.predict(x_test)\n",
    "# y_pred = np.argmax(y_pred, axis=1)\n",
    "\n",
    "y_true = y_test\n",
    "\n",
    "plot.confusion_matrix(y_true, y_pred)\n",
    "plt.show()"
   ]
  }
 ],
 "metadata": {
  "interpreter": {
   "hash": "bbcd16870f9a89e46e760e6b55b5046d1285a9bd78dfb3ab1aff4c621d5f2caa"
  },
  "kernelspec": {
   "display_name": "Python 3.8.6 64-bit",
   "language": "python",
   "name": "python3"
  },
  "language_info": {
   "codemirror_mode": {
    "name": "ipython",
    "version": 3
   },
   "file_extension": ".py",
   "mimetype": "text/x-python",
   "name": "python",
   "nbconvert_exporter": "python",
   "pygments_lexer": "ipython3",
   "version": "3.8.6"
  },
  "orig_nbformat": 4
 },
 "nbformat": 4,
 "nbformat_minor": 2
}
