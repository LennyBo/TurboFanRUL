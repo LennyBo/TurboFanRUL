{
 "cells": [
  {
   "cell_type": "markdown",
   "metadata": {},
   "source": [
    "## Function to show the results"
   ]
  },
  {
   "cell_type": "code",
   "execution_count": null,
   "metadata": {},
   "outputs": [],
   "source": [
    "import matplotlib.pyplot as plt\n",
    "\n",
    "def show_results(test, pred):\n",
    "    x_ax = range(len(test))\n",
    "    plt.plot(x_ax, test, linewidth=1, label=\"original\")\n",
    "    plt.plot(x_ax, pred, linewidth=1.1, label=\"predicted\")\n",
    "    plt.title(\"y-test and y-predicted data\")\n",
    "    plt.xlabel('X-axis')\n",
    "    plt.ylabel('Y-axis')\n",
    "    plt.legend(loc='best',fancybox=True, shadow=True)\n",
    "    plt.grid(True)\n",
    "    plt.show() "
   ]
  },
  {
   "cell_type": "markdown",
   "metadata": {},
   "source": [
    "## Get the data "
   ]
  },
  {
   "cell_type": "code",
   "execution_count": null,
   "metadata": {},
   "outputs": [],
   "source": [
    "from Preprocessing import getData\n",
    "x_train, x_val, x_test, y_train, y_val, y_test = getData()\n",
    "\n",
    "x_train = x_train.squeeze()\n",
    "x_test = x_test.squeeze()\n",
    "x_test = x_test.squeeze()\n",
    "y_test = y_test.squeeze()"
   ]
  },
  {
   "cell_type": "markdown",
   "metadata": {},
   "source": [
    "## Version brut"
   ]
  },
  {
   "cell_type": "code",
   "execution_count": null,
   "metadata": {},
   "outputs": [],
   "source": [
    "from sklearn import tree\n",
    "from sklearn.metrics import accuracy_score\n",
    "\n",
    "# # decision tree\n",
    "dt = tree.DecisionTreeClassifier(max_depth=5, random_state=0)\n",
    "\n",
    "dt.fit(x_train, y_train)\n",
    "score = dt.score(x_train, y_train)\n",
    "print('score:', score)\n",
    "\n",
    "pred = dt.predict(x_test)\n",
    "accuracy = accuracy_score(y_test, pred)\n",
    "print('accuracy:', accuracy)\n",
    "\n",
    "show_results(y_test, pred)"
   ]
  },
  {
   "cell_type": "code",
   "execution_count": null,
   "metadata": {},
   "outputs": [],
   "source": [
    "from sklearn.preprocessing import StandardScaler\n",
    "from sklearn.pipeline import Pipeline\n",
    "from sklearn.model_selection import GridSearchCV\n",
    "from sklearn import tree\n",
    "from sklearn.ensemble import GradientBoostingClassifier\n",
    "\n",
    "pipe = Pipeline(steps=[\n",
    "                    # ('std_slc', StandardScaler()),\n",
    "                    # ('pca', pca),\n",
    "                    # ('dec_tree', tree.DecisionTreeClassifier()),\n",
    "                    ('dec_tree', GradientBoostingClassifier()),\n",
    "                ])\n",
    "\n",
    "params = dict(\n",
    "            # dec_tree__criterion = ['gini', 'entropy'],\n",
    "            dec_tree__criterion = ['friedman_mse', 'squared_error'],\n",
    "            dec_tree__max_depth = [i for i in range (1, 20)]\n",
    "            )\n"
   ]
  },
  {
   "cell_type": "code",
   "execution_count": null,
   "metadata": {},
   "outputs": [],
   "source": [
    "gsc = GridSearchCV(pipe, params)\n",
    "gsc.fit(x_train, y_train)\n",
    "\n",
    "# pca__n_components = gsc.best_estimator_.get_params()['pca__n_components']\n",
    "dec_tree__criterion = gsc.best_estimator_.get_params()['dec_tree__criterion']\n",
    "dec_tree__max_depth = gsc.best_estimator_.get_params()['dec_tree__max_depth']\n",
    "\n",
    "# print('Best Number Of Components:', pca__n_components)\n",
    "print('Best Criterion:', dec_tree__criterion)\n",
    "print('Best max_depth:', dec_tree__max_depth)"
   ]
  },
  {
   "cell_type": "markdown",
   "metadata": {},
   "source": [
    "shortcut"
   ]
  },
  {
   "cell_type": "code",
   "execution_count": null,
   "metadata": {},
   "outputs": [],
   "source": [
    "dec_tree__criterion = 'gini'\n",
    "dec_tree__max_depth = 3"
   ]
  },
  {
   "cell_type": "code",
   "execution_count": null,
   "metadata": {},
   "outputs": [],
   "source": [
    "dt = tree.DecisionTreeClassifier(criterion=dec_tree__criterion, max_depth=dec_tree__max_depth)\n",
    "dt.fit(x_train, y_train)\n",
    "\n",
    "print('score:', dt.score(x_train, y_train))"
   ]
  },
  {
   "cell_type": "code",
   "execution_count": null,
   "metadata": {},
   "outputs": [],
   "source": [
    "from sklearn.metrics import accuracy_score\n",
    "\n",
    "dt2 = GradientBoostingClassifier()\n",
    "dt2.fit(x_train, y_train)\n",
    "y_pred = dt2.predict(x_test)\n",
    "y_pred2 = gsc.predict(x_test)\n",
    "\n",
    "accuracy = accuracy_score(y_test, y_pred)\n",
    "accuracy2 = accuracy_score(y_test, y_pred2)\n",
    "\n",
    "print('accuracy dt:', accuracy)\n",
    "show_results(y_test, y_pred)\n",
    "print('accuracy gs:', accuracy2)\n",
    "show_results(y_test, y_pred2)"
   ]
  }
 ],
 "metadata": {
  "interpreter": {
   "hash": "2be5faf79681da6f2a61fdfdd5405d65d042280f7fba6178067603e3a2925119"
  },
  "kernelspec": {
   "display_name": "Python 3.10.3 64-bit",
   "language": "python",
   "name": "python3"
  },
  "language_info": {
   "codemirror_mode": {
    "name": "ipython",
    "version": 3
   },
   "file_extension": ".py",
   "mimetype": "text/x-python",
   "name": "python",
   "nbconvert_exporter": "python",
   "pygments_lexer": "ipython3",
   "version": "3.10.3"
  },
  "orig_nbformat": 4
 },
 "nbformat": 4,
 "nbformat_minor": 2
}
